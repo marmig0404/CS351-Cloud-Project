{
 "cells": [
  {
   "cell_type": "code",
   "execution_count": null,
   "metadata": {},
   "outputs": [],
   "source": [
    "# install poetry if not already installed\n",
    "!pip install poetry\n",
    "\n",
    "# install dependencies\n",
    "!poetry install\n",
    "\n",
    "# set active kernel to poetry virtual environment MANUALLY"
   ]
  },
  {
   "cell_type": "code",
   "execution_count": 6,
   "metadata": {},
   "outputs": [
    {
     "name": "stdout",
     "output_type": "stream",
     "text": [
      "initialized 30 drivers\n",
      "loaded page in 1.1792807579040527 seconds\n",
      "loaded page in 1.20029616355896 seconds\n",
      "loaded page in 1.1490304470062256 seconds\n",
      "loaded page in 1.2764167785644531 seconds\n",
      "loaded page in 1.2889552116394043 seconds\n",
      "loaded page in 1.1947028636932373 seconds\n",
      "loaded page in 1.3316614627838135 seconds\n",
      "loaded page in 1.2022199630737305 seconds\n",
      "loaded page in 1.353212594985962 seconds\n",
      "loaded page in 1.3325951099395752 seconds\n",
      "loaded page in 1.3652567863464355 seconds\n",
      "loaded page in 1.1490507125854492 seconds\n",
      "loaded page in 1.389312505722046 seconds\n",
      "loaded page in 1.2365825176239014 seconds\n",
      "loaded page in 1.4643070697784424 seconds\n",
      "loaded page in 1.485395908355713 seconds\n",
      "loaded page in 1.2847518920898438 seconds\n",
      "loaded page in 1.508957862854004 seconds\n",
      "loaded page in 1.5315144062042236 seconds\n",
      "loaded page in 1.353926658630371 seconds\n",
      "loaded page in 1.5078973770141602 seconds\n",
      "loaded page in 1.43569016456604 seconds\n",
      "loaded page in 1.5344772338867188 seconds\n",
      "loaded page in 1.4492073059082031 seconds\n",
      "loaded page in 1.505878210067749 seconds\n",
      "loaded page in 1.4475650787353516 seconds\n",
      "loaded page in 1.5075335502624512 seconds\n",
      "loaded page in 1.6838324069976807 seconds\n",
      "loaded page in 1.7620115280151367 seconds\n",
      "loaded page in 1.722978115081787 seconds\n",
      "average load time: 1.3944832881291707 seconds\n"
     ]
    }
   ],
   "source": [
    "# use selenium to load 20 pages of the website concurrently\n",
    "\n",
    "from concurrent.futures import ThreadPoolExecutor\n",
    "import time\n",
    "\n",
    "from selenium.webdriver.chrome.options import Options\n",
    "from selenium import webdriver\n",
    "\n",
    "url = \"https://postboard.martinmiglio.dev/\"\n",
    "count = 30\n",
    "scroll_count = 5\n",
    "\n",
    "\n",
    "# define all the options as a list\n",
    "options = [\n",
    "    \"--window-size=1920x1080\",\n",
    "    \"--disable-gpu\",\n",
    "    \"--no-sandbox\",\n",
    "    \"--headless\",\n",
    "    \"--disable-dev-shm-usage\",\n",
    "    \"--disable-extensions\",\n",
    "    \"--disable-browser-side-navigation\",\n",
    "    \"--disable-gpu\",\n",
    "    \"--disable-features=VizDisplayCompositor\",\n",
    "    \"--disable-features=NetworkService\",\n",
    "]\n",
    "\n",
    "# create the chrome options\n",
    "chrome_options = Options()\n",
    "for option in options:\n",
    "    chrome_options.add_argument(option)\n",
    "\n",
    "# initalize the drivers\n",
    "drivers: list[webdriver.Chrome] = [webdriver.Chrome(\n",
    "    options=chrome_options) for _ in range(count)]\n",
    "\n",
    "print(f\"initialized {len(drivers)} drivers\")\n",
    "\n",
    "\n",
    "def load_page(driver: webdriver.Chrome, url: str):\n",
    "    start_time = time.time()\n",
    "    driver.get(url)\n",
    "    duration = time.time() - start_time\n",
    "    print(f\"loaded page in {duration} seconds\")\n",
    "    time.sleep(1)\n",
    "    for _ in range(scroll_count):\n",
    "        driver.execute_script(\n",
    "            \"window.scrollTo(0, document.body.scrollHeight);\")\n",
    "        time.sleep(1)\n",
    "    driver.quit()\n",
    "    return duration\n",
    "\n",
    "\n",
    "durations: list[float] = []\n",
    "\n",
    "# use pools to load the pages, and get the durations\n",
    "with ThreadPoolExecutor(max_workers=count) as executor:\n",
    "    durations = list(executor.map(\n",
    "        load_page, drivers, [url for _ in range(count)]))\n",
    "\n",
    "print(f\"average load time: {sum(durations) / len(durations)} seconds\")\n"
   ]
  }
 ],
 "metadata": {
  "kernelspec": {
   "display_name": "load-testing-zVau9na--py3.10",
   "language": "python",
   "name": "python3"
  },
  "language_info": {
   "codemirror_mode": {
    "name": "ipython",
    "version": 3
   },
   "file_extension": ".py",
   "mimetype": "text/x-python",
   "name": "python",
   "nbconvert_exporter": "python",
   "pygments_lexer": "ipython3",
   "version": "3.10.9"
  },
  "orig_nbformat": 4,
  "vscode": {
   "interpreter": {
    "hash": "5e1cd3b03b73703dcb73eb7b8a39ccd026c23c70084d831276d3c1b6fcaa0cba"
   }
  }
 },
 "nbformat": 4,
 "nbformat_minor": 2
}
